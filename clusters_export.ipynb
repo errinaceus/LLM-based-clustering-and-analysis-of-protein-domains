{
 "cells": [
  {
   "cell_type": "code",
   "execution_count": 1,
   "id": "b125c046",
   "metadata": {},
   "outputs": [],
   "source": [
    "import pandas as pd\n",
    "from Bio import SeqIO"
   ]
  },
  {
   "cell_type": "code",
   "execution_count": 2,
   "id": "855e823c",
   "metadata": {},
   "outputs": [],
   "source": [
    "df_c=pd.read_csv('Dm_T5_umap_gmm_clusters.csv')"
   ]
  },
  {
   "cell_type": "code",
   "execution_count": 4,
   "id": "00e24017",
   "metadata": {},
   "outputs": [
    {
     "name": "stderr",
     "output_type": "stream",
     "text": [
      "IOPub data rate exceeded.\n",
      "The notebook server will temporarily stop sending output\n",
      "to the client in order to avoid crashing it.\n",
      "To change this limit, set the config variable\n",
      "`--NotebookApp.iopub_data_rate_limit`.\n",
      "\n",
      "Current values:\n",
      "NotebookApp.iopub_data_rate_limit=1000000.0 (bytes/sec)\n",
      "NotebookApp.rate_limit_window=3.0 (secs)\n",
      "\n"
     ]
    }
   ],
   "source": [
    "n_clusters=df_c['gmm'].nunique()\n",
    "for k in range(n_clusters):\n",
    "    CLUSTER=k\n",
    "    from Bio import SeqIO\n",
    "    from Bio.Seq import Seq\n",
    "    from Bio.SeqRecord import SeqRecord\n",
    "    records = list(SeqIO.parse(\"Drosophila_melanogaster_all_C2H2s.fasta\", \"fasta\"))\n",
    "    fastas={'id':[],'seq':[]}\n",
    "    for i in range(len(records)):\n",
    "        fastas['id'].append(str(records[i].id))\n",
    "        fastas['seq'].append(str(records[i].seq))\n",
    "    fasta_df=pd.DataFrame(fastas)\n",
    "    ids=[]\n",
    "    seqs=[]\n",
    "    for i in df_c.iterrows():\n",
    "        if i[1][3]==CLUSTER:\n",
    "            ids.append(i[1][4])\n",
    "            print(ids)\n",
    "            sequence=list(fasta_df.loc[fasta_df['id']==i[1][4]]['seq'])\n",
    "            seqs.append(str(sequence)[2:-2:])\n",
    "    ofile = open('Dm_protBERT_C2H2s_cluster'+str(CLUSTER)+'.fasta', \"w\")\n",
    "    for i in range(len(ids)):\n",
    "        ofile.write(\">\" + ids[i] + \"\\n\" +seqs[i] + \"\\n\")\n",
    "        #do not forget to close it\n",
    "    ofile.close()\n",
    "    print(ids)"
   ]
  },
  {
   "cell_type": "code",
   "execution_count": null,
   "id": "64bfaf29",
   "metadata": {},
   "outputs": [],
   "source": []
  }
 ],
 "metadata": {
  "kernelspec": {
   "display_name": "Python 3 (ipykernel)",
   "language": "python",
   "name": "python3"
  },
  "language_info": {
   "codemirror_mode": {
    "name": "ipython",
    "version": 3
   },
   "file_extension": ".py",
   "mimetype": "text/x-python",
   "name": "python",
   "nbconvert_exporter": "python",
   "pygments_lexer": "ipython3",
   "version": "3.11.0"
  }
 },
 "nbformat": 4,
 "nbformat_minor": 5
}

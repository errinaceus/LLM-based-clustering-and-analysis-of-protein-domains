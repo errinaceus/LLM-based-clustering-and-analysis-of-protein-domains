{
 "cells": [
  {
   "cell_type": "code",
   "execution_count": 1,
   "id": "4084023d",
   "metadata": {},
   "outputs": [],
   "source": [
    "\n",
    "# UTILITARIES\n",
    "import numpy as np\n",
    "from tqdm import tqdm\n",
    "import time\n",
    "import matplotlib.pyplot as plt\n",
    "plt.style.use('ggplot')\n",
    "import pandas as pd\n",
    "from Bio import SeqIO\n",
    "# TORCH MODULES FOR METRICS COMPUTATION :\n",
    "import torch\n",
    "from torch.utils.data import Dataset\n",
    "from torch import nn\n",
    "from torch.utils.data import random_split\n",
    "from torch.optim.lr_scheduler import ReduceLROnPlateau\n",
    "#from torchmetrics.classification import MultilabelF1Score\n",
    "#from torchmetrics.classification import MultilabelAccuracy\n",
    "\n"
   ]
  },
  {
   "cell_type": "code",
   "execution_count": 9,
   "id": "4a0ef0eb",
   "metadata": {},
   "outputs": [],
   "source": [
    "class config:\n",
    "    train_sequences_path = \"/Train/C2H2.fasta\"\n",
    "\n",
    "    \n",
    "    num_labels = 500\n",
    "    n_epochs = 5\n",
    "    batch_size = 128\n",
    "    lr = 0.001\n",
    "    \n",
    "    device = torch.device('cuda' if torch.cuda.is_available() else 'cpu')"
   ]
  },
  {
   "cell_type": "code",
   "execution_count": 4,
   "id": "fc6b8d0b",
   "metadata": {},
   "outputs": [
    {
     "name": "stderr",
     "output_type": "stream",
     "text": [
      "/home/k305-1/miniconda3/envs/cryodrgn1/lib/python3.9/site-packages/transformers/tokenization_utils_base.py:1601: FutureWarning: `clean_up_tokenization_spaces` was not set. It will be set to `True` by default. This behavior will be depracted in transformers v4.45, and will be then set to `False` by default. For more details check this issue: https://github.com/huggingface/transformers/issues/31884\n",
      "  warnings.warn(\n",
      "/home/k305-1/miniconda3/envs/cryodrgn1/lib/python3.9/site-packages/torch/_utils.py:771: UserWarning: TypedStorage is deprecated. It will be removed in the future and UntypedStorage will be the only storage class. This should only matter to you if you are using storages directly.  To access UntypedStorage directly, use tensor.untyped_storage() instead of tensor.storage()\n",
      "  return self.fget.__get__(instance, owner)()\n"
     ]
    }
   ],
   "source": [
    "from transformers import BertModel, BertTokenizer\n",
    "tokenizer = BertTokenizer.from_pretrained(\"Rostlab/prot_bert\", do_lower_case=False )\n",
    "model = BertModel.from_pretrained(\"Rostlab/prot_bert\").to(config.device)\n",
    "\n",
    "def get_bert_embedding(\n",
    "    sequence : str,\n",
    "    len_seq_limit : int\n",
    "):\n",
    "    sequence_w_spaces = ' '.join(list(sequence))\n",
    "    encoded_input = tokenizer(\n",
    "        sequence_w_spaces,\n",
    "        truncation=True,\n",
    "        max_length=len_seq_limit,\n",
    "        padding='max_length',\n",
    "        return_tensors='pt').to(config.device)\n",
    "    output = model(**encoded_input)\n",
    "    output_hidden = output['last_hidden_state'][:,0][0].detach().cpu().numpy()\n",
    "    assert len(output_hidden)==1024\n",
    "    return output_hidden"
   ]
  },
  {
   "cell_type": "code",
   "execution_count": 5,
   "id": "509ffb05",
   "metadata": {},
   "outputs": [
    {
     "name": "stdout",
     "output_type": "stream",
     "text": [
      "cuda\n"
     ]
    }
   ],
   "source": [
    "print(config.device)"
   ]
  },
  {
   "cell_type": "code",
   "execution_count": 10,
   "id": "ae5659e9",
   "metadata": {},
   "outputs": [
    {
     "name": "stderr",
     "output_type": "stream",
     "text": [
      "16027it [32:49,  8.14it/s]"
     ]
    },
    {
     "name": "stdout",
     "output_type": "stream",
     "text": [
      "Total Elapsed Time: 1970.0063409805298\n"
     ]
    },
    {
     "name": "stderr",
     "output_type": "stream",
     "text": [
      "\n"
     ]
    }
   ],
   "source": [
    "for file in glob.glob(\"/Train/*.fasta\"):\n",
    "    name=os.path.basename(file)\n",
    "    base_name=name.split(sep='.')[0]\n",
    "    fasta=os.path.join(base_name+'.fasta')\n",
    "    class config:\n",
    "        train_sequences_path = os.path.join(\"/Train/\"+name)\n",
    "\n",
    "\n",
    "        num_labels = 500\n",
    "        n_epochs = 5\n",
    "        batch_size = 128\n",
    "        lr = 0.001\n",
    "\n",
    "        device = torch.device('cuda' if torch.cuda.is_available() else 'cpu')\n",
    "    fasta_train = SeqIO.parse(config.train_sequences_path, \"fasta\")\n",
    "    ids_list = []\n",
    "    embed_vects_list = []\n",
    "    t0 = time.time()\n",
    "    checkpoint = 0\n",
    "    for item in tqdm(fasta_train):\n",
    "        ids_list.append(item.id)\n",
    "        embed_vects_list.append(\n",
    "            get_bert_embedding(sequence = item.seq, len_seq_limit = 1200))\n",
    "        checkpoint+=1\n",
    "        if checkpoint>=100:\n",
    "            df_res = pd.DataFrame(data={\"id\" : ids_list, \"embed_vect\" : embed_vects_list})\n",
    "            np.save(base_name+'_train_ids.npy',np.array(ids_list))\n",
    "            np.save(base_name+'_train_embeddings.npy',np.array(embed_vects_list))\n",
    "            checkpoint=0\n",
    "\n",
    "    np.save(base_name+'_train_ids.npy',np.array(ids_list))\n",
    "    np.save(base_name+'_train_embeddings.npy',np.array(embed_vects_list))\n",
    "    print('Total Elapsed Time:',time.time()-t0)"
   ]
  }
 ],
 "metadata": {
  "kernelspec": {
   "display_name": "Python 3 (ipykernel)",
   "language": "python",
   "name": "python3"
  },
  "language_info": {
   "codemirror_mode": {
    "name": "ipython",
    "version": 3
   },
   "file_extension": ".py",
   "mimetype": "text/x-python",
   "name": "python",
   "nbconvert_exporter": "python",
   "pygments_lexer": "ipython3",
   "version": "3.11.0"
  }
 },
 "nbformat": 4,
 "nbformat_minor": 5
}
